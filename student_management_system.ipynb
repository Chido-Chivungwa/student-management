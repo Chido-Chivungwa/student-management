{
 "cells": [
  {
   "cell_type": "code",
   "execution_count": null,
   "id": "ecceeea2-a090-49f0-b3d2-84e81b58df0d",
   "metadata": {},
   "outputs": [],
   "source": [
    "#---------------------------\n",
    "# Student Management System\n",
    "#---------------------------\n",
    "#This program allows an authenticated user to:\n",
    "#add, view, search, update, and delete student records\n",
    "#generate a simple report of student grades\n",
    "#log all user actions for accountability\n",
    "#\n",
    "#Data will be stored in plain text files to keep things simple\n",
    "#the file-handling shown here is beginner-friendly\n",
    "#authentication and CRUD (Create, Read, Update, and Delete) operations\n",
    "\n",
    "import os        #checks file existence and file operations\n",
    "import getpass   #for secure password input (hides typed characters)\n",
    "import datetime  #for timestamps in activity logs"
   ]
  },
  {
   "cell_type": "code",
   "execution_count": null,
   "id": "3ce9bccb-a26c-48e7-a77e-daa19852e6af",
   "metadata": {},
   "outputs": [],
   "source": [
    "#------------------------------ \n",
    "# File paths (all data will be stored here)\n",
    "# ------------------------------ \n",
    "USER_FILE = \"users.txt\"         #stores usernames and passwords\n",
    "STUDENT_FILE = \"students.txt\"   #stores student records\n",
    "LOG_FILE = \"activity_log.txt\"   #stores a log of all user actions"
   ]
  },
  {
   "cell_type": "code",
   "execution_count": null,
   "id": "7ee32a87-4928-4c88-94c4-b727e9994680",
   "metadata": {},
   "outputs": [],
   "source": [
    "def log_activity(username, action): \n",
    "    \"\"\"\n",
    "    Log user actions with timestamp. This helps track who did what and when\n",
    "    \"\"\" \n",
    "    with open(LOG_FILE, \"a\") as log: \n",
    "        log.write(f\"{datetime.datetime.now()} - {username} - {action}\\n\") \n",
    "\n",
    "#-------------------------\n",
    "#User Management Functions\n",
    "#-------------------------\n",
    "def load_users(): \n",
    "    \"\"\" \n",
    "    Load all users from USER_FILE into a dictionary.\n",
    "    Format in file: username,password\n",
    "    Returns: { 'user1': 'pass1', 'user2': 'pass2', ... }\n",
    "    \"\"\" \n",
    "    users = {} \n",
    "    if os.path.exists(USER_FILE): \n",
    "        with open(USER_FILE, \"r\") as f: \n",
    "            for line in f: \n",
    "                if \",\" in line: \n",
    "                    uname, pwd = line.strip().split(\",\", 1) \n",
    "                    users[uname] = pwd \n",
    "    return users "
   ]
  },
  {
   "cell_type": "code",
   "execution_count": null,
   "id": "f0707dac-f763-4089-88c5-1cabe469fcfd",
   "metadata": {},
   "outputs": [],
   "source": [
    "def save_user(username, password): \n",
    "    \"\"\"\n",
    "    Save new user to USER_FILE. \n",
    "    Appends to the file so that existing users aren't overwritten.\n",
    "    \"\"\" \n",
    "    with open(USER_FILE, \"a\") as f: \n",
    "        f.write(f\"{username},{password}\\n\") "
   ]
  },
  {
   "cell_type": "code",
   "execution_count": null,
   "id": "7fd2ba86-f78b-4792-84bd-9541228a2082",
   "metadata": {},
   "outputs": [],
   "source": [
    "def authenticate(): \n",
    "    \"\"\"\n",
    "    Authenticate user login. Prompts user for username and password.\n",
    "    Checks credentials against USER_FILE.\n",
    "    Returns the username if successful, otherwise None.\n",
    "    \"\"\" \n",
    "    users = load_users() \n",
    "    username = input(\"Enter Username: \") \n",
    "    password = getpass.getpass(\"Enter Password: \") \n",
    " \n",
    "    if username in users and users[username] == password: \n",
    "        log_activity(username, \"Logged in\") \n",
    "        print(\"\\n✅ Login Successful!\\n\") \n",
    "        return username \n",
    "    else: \n",
    "        print(\"\\n❌ Invalid credentials!\\n\") \n",
    "        return None "
   ]
  },
  {
   "cell_type": "code",
   "execution_count": null,
   "id": "3132b1a6-4572-4011-a3bd-098ec1f8ac2a",
   "metadata": {},
   "outputs": [],
   "source": [
    "#----------------------------\n",
    "#Student management functions\n",
    "#----------------------------\n",
    "\n",
    "def add_student(username): \n",
    "    \"\"\"\n",
    "    Adds a new student record to STUDENT_FILE.\n",
    "    Format: roll, name, grade\n",
    "    \"\"\"\n",
    "    roll = input(\"Enter Roll Number: \") \n",
    "    name = input(\"Enter Name: \") \n",
    "    grade = input(\"Enter Grade: \") \n",
    " \n",
    "    with open(STUDENT_FILE, \"a\") as f: \n",
    "        f.write(f\"{roll},{name},{grade}\\n\") \n",
    " \n",
    "    log_activity(username, f\"Added student {roll}\") \n",
    "    print(\"✅ Student added successfully!\")"
   ]
  },
  {
   "cell_type": "code",
   "execution_count": null,
   "id": "eff072c8-69e2-4ceb-81e9-a1141b210ee5",
   "metadata": {},
   "outputs": [],
   "source": [
    "def view_students(): \n",
    "    \"\"\"\n",
    "    Display all student records in a readable format.\n",
    "    \"\"\"\n",
    "    if not os.path.exists(STUDENT_FILE): \n",
    "        print(\"No records found.\") \n",
    "        return \n",
    " \n",
    "    with open(STUDENT_FILE, \"r\") as f: \n",
    "        print(\"\\n--- Student Records ---\") \n",
    "        for line in f: \n",
    "            roll, name, grade = line.strip().split(\",\") \n",
    "            print(f\"Roll: {roll} | Name: {name} | Grade: {grade}\") "
   ]
  },
  {
   "cell_type": "code",
   "execution_count": null,
   "id": "7d1baf5a-1389-422c-a39f-103838555cae",
   "metadata": {},
   "outputs": [],
   "source": [
    "def search_student(): \n",
    "    \"\"\"\n",
    "    search student by roll number and display their details\n",
    "    \"\"\"\n",
    "    roll_no = input(\"Enter Roll Number to search: \") \n",
    "    found = False \n",
    " \n",
    "    if os.path.exists(STUDENT_FILE): \n",
    "        with open(STUDENT_FILE, \"r\") as f: \n",
    "            for line in f: \n",
    "                # Skip empty or invalid lines \n",
    "                parts = line.strip().split(\",\") \n",
    "                if len(parts) != 3: \n",
    "                    continue \n",
    "                roll, name, grade = parts \n",
    "                if roll == roll_no: \n",
    "                    print(f\"✅ Found: Roll: {roll} | Name: {name} | Grade: {grade}\") \n",
    "                    found = True \n",
    "                    break \n",
    " \n",
    "    if not found:\n",
    "                    print(\"❌ Student not found.\")\n",
    "\n"
   ]
  },
  {
   "cell_type": "code",
   "execution_count": null,
   "id": "07b9528a-ae3e-4354-9e9c-3aabbcde8047",
   "metadata": {},
   "outputs": [],
   "source": [
    "def update_student(username): \n",
    "    \"\"\"\n",
    "    update existing student name and grade by roll number\n",
    "    \"\"\"\n",
    "    roll_no = input(\"Enter Roll Number to update: \") \n",
    "    students = [] \n",
    "    updated = False \n",
    " \n",
    "    if os.path.exists(STUDENT_FILE): \n",
    "        with open(STUDENT_FILE, \"r\") as f: \n",
    "            students = f.readlines() \n",
    " \n",
    "        with open(STUDENT_FILE, \"w\") as f: \n",
    "            for line in students: \n",
    "                roll, name, grade = line.strip().split(\",\") \n",
    "                if roll == roll_no: \n",
    "                    print(f\"Current Data → Name: {name}, Grade: {grade}\") \n",
    "                    new_name = input(\"Enter new Name: \") \n",
    "                    new_grade = input(\"Enter new Grade: \") \n",
    "                    f.write(f\"{roll},{new_name},{new_grade}\\n\") \n",
    "                    updated = True \n",
    "                    log_activity(username, f\"Updated student {roll}\") \n",
    "                else: \n",
    "                    f.write(line) \n",
    " \n",
    "    if updated: \n",
    "        print(\"✅ Student record updated.\") \n",
    "    else: \n",
    "        print(\"❌ Student not found.\")"
   ]
  },
  {
   "cell_type": "code",
   "execution_count": null,
   "id": "202310b2-efb8-42ba-b979-5e1086af19e1",
   "metadata": {},
   "outputs": [],
   "source": [
    "def delete_student(username): \n",
    "    \"\"\"\n",
    "    Delete a student by roll number\n",
    "    \"\"\"\n",
    "    roll_no = input(\"Enter Roll Number to delete: \") \n",
    "    students = [] \n",
    "    deleted = False \n",
    " \n",
    "    if os.path.exists(STUDENT_FILE): \n",
    "        with open(STUDENT_FILE, \"r\") as f: \n",
    "            students = f.readlines() \n",
    " \n",
    "        with open(STUDENT_FILE, \"w\") as f: \n",
    "            for line in students: \n",
    "                # Skip empty or invalid lines \n",
    "                parts = line.strip().split(\",\") \n",
    "                if len(parts) != 3: \n",
    "                    f.write(line)  # keep invalid lines unchanged \n",
    "                    continue \n",
    " \n",
    "                roll, name, grade = parts \n",
    "                if roll == roll_no: \n",
    "                    deleted = True \n",
    "                    # Log deletion \n",
    "                    log_activity(username, f\"Deleted student {roll}\") \n",
    "                else: \n",
    "                    f.write(line) \n",
    " \n",
    "    if deleted: \n",
    "        print(\"✅ Student record deleted.\") \n",
    "    else: \n",
    "        print(\"❌ Student not found.\")"
   ]
  },
  {
   "cell_type": "code",
   "execution_count": null,
   "id": "921bddba-2258-4fcf-a43e-413137201a39",
   "metadata": {},
   "outputs": [],
   "source": [
    "#--------------------\n",
    "#Reporting\n",
    "#--------------------\n",
    "\n",
    "def generate_report(): \n",
    "    \"\"\"\n",
    "    This generates a simple report with:\n",
    "    -total number of students\n",
    "    -count of students per grade\n",
    "    \"\"\"\n",
    "    if not os.path.exists(STUDENT_FILE): \n",
    "        print(\"No records available.\") \n",
    "        return \n",
    " \n",
    "    total = 0 \n",
    "    grades = {} \n",
    "    with open(STUDENT_FILE, \"r\") as f: \n",
    "        for line in f: \n",
    "            roll, name, grade = line.strip().split(\",\") \n",
    "            total += 1 \n",
    "            grades[grade] = grades.get(grade, 0) + 1 \n",
    " \n",
    "    print(\"\\n📊 Student Report\") \n",
    "    print(f\"Total Students: {total}\") \n",
    "    for g, count in grades.items(): \n",
    "        print(f\"Grade {g}: {count} student(s)\") "
   ]
  },
  {
   "cell_type": "code",
   "execution_count": 14,
   "id": "90694678-6937-4731-9f10-4bbb8292d2d2",
   "metadata": {},
   "outputs": [
    {
     "name": "stdout",
     "output_type": "stream",
     "text": [
      "===== Student Management System =====\n",
      "No users found. Create an Admin account.\n"
     ]
    },
    {
     "name": "stdin",
     "output_type": "stream",
     "text": [
      "Set Admin Username:  admin\n",
      "Set Admin Password:  ········\n"
     ]
    },
    {
     "name": "stdout",
     "output_type": "stream",
     "text": [
      "✅ Admin created! Please restart the program.\n"
     ]
    },
    {
     "name": "stdin",
     "output_type": "stream",
     "text": [
      "Enter Username:  admin\n",
      "Enter Password:  ········\n"
     ]
    },
    {
     "name": "stdout",
     "output_type": "stream",
     "text": [
      "\n",
      "✅ Login Successful!\n",
      "\n",
      "\n",
      "--- Main Menu ---\n",
      "1. Add Student\n",
      "2. View All Students\n",
      "3. Search Student\n",
      "4. Update Student\n",
      "5. Delete Student\n",
      "6. Generate Report\n",
      "7. Logout & Exit\n"
     ]
    },
    {
     "name": "stdin",
     "output_type": "stream",
     "text": [
      "Enter choice:  1\n",
      "Enter Roll Number:  101\n",
      "Enter Name:  Alice\n",
      "Enter Grade:  A\n"
     ]
    },
    {
     "name": "stdout",
     "output_type": "stream",
     "text": [
      "✅ Student added successfully!\n",
      "\n",
      "--- Main Menu ---\n",
      "1. Add Student\n",
      "2. View All Students\n",
      "3. Search Student\n",
      "4. Update Student\n",
      "5. Delete Student\n",
      "6. Generate Report\n",
      "7. Logout & Exit\n"
     ]
    },
    {
     "name": "stdin",
     "output_type": "stream",
     "text": [
      "Enter choice:  1\n",
      "Enter Roll Number:  102\n",
      "Enter Name:  Bob\n",
      "Enter Grade:  B\n"
     ]
    },
    {
     "name": "stdout",
     "output_type": "stream",
     "text": [
      "✅ Student added successfully!\n",
      "\n",
      "--- Main Menu ---\n",
      "1. Add Student\n",
      "2. View All Students\n",
      "3. Search Student\n",
      "4. Update Student\n",
      "5. Delete Student\n",
      "6. Generate Report\n",
      "7. Logout & Exit\n"
     ]
    },
    {
     "name": "stdin",
     "output_type": "stream",
     "text": [
      "Enter choice:  1\n",
      "Enter Roll Number:  103\n",
      "Enter Name:  Chris\n",
      "Enter Grade:  C\n"
     ]
    },
    {
     "name": "stdout",
     "output_type": "stream",
     "text": [
      "✅ Student added successfully!\n",
      "\n",
      "--- Main Menu ---\n",
      "1. Add Student\n",
      "2. View All Students\n",
      "3. Search Student\n",
      "4. Update Student\n",
      "5. Delete Student\n",
      "6. Generate Report\n",
      "7. Logout & Exit\n"
     ]
    },
    {
     "name": "stdin",
     "output_type": "stream",
     "text": [
      "Enter choice:  2\n"
     ]
    },
    {
     "name": "stdout",
     "output_type": "stream",
     "text": [
      "\n",
      "--- Student Records ---\n",
      "Roll: 101 | Name: Alice | Grade: A\n",
      "Roll: 102 | Name: Bob | Grade: B\n",
      "Roll: 103 | Name: Chris | Grade: C\n",
      "\n",
      "--- Main Menu ---\n",
      "1. Add Student\n",
      "2. View All Students\n",
      "3. Search Student\n",
      "4. Update Student\n",
      "5. Delete Student\n",
      "6. Generate Report\n",
      "7. Logout & Exit\n"
     ]
    },
    {
     "name": "stdin",
     "output_type": "stream",
     "text": [
      "Enter choice:  3\n",
      "Enter Roll Number to search:  102\n"
     ]
    },
    {
     "name": "stdout",
     "output_type": "stream",
     "text": [
      "✅ Found: Roll: 102 | Name: Bob | Grade: B\n",
      "\n",
      "--- Main Menu ---\n",
      "1. Add Student\n",
      "2. View All Students\n",
      "3. Search Student\n",
      "4. Update Student\n",
      "5. Delete Student\n",
      "6. Generate Report\n",
      "7. Logout & Exit\n"
     ]
    },
    {
     "name": "stdin",
     "output_type": "stream",
     "text": [
      "Enter choice:  104\n"
     ]
    },
    {
     "name": "stdout",
     "output_type": "stream",
     "text": [
      "❌ Invalid choice! Please try again.\n",
      "\n",
      "--- Main Menu ---\n",
      "1. Add Student\n",
      "2. View All Students\n",
      "3. Search Student\n",
      "4. Update Student\n",
      "5. Delete Student\n",
      "6. Generate Report\n",
      "7. Logout & Exit\n"
     ]
    },
    {
     "name": "stdin",
     "output_type": "stream",
     "text": [
      "Enter choice:  4\n",
      "Enter Roll Number to update:  102\n"
     ]
    },
    {
     "name": "stdout",
     "output_type": "stream",
     "text": [
      "Current Data → Name: Bob, Grade: B\n"
     ]
    },
    {
     "name": "stdin",
     "output_type": "stream",
     "text": [
      "Enter new Name:  Brandon\n",
      "Enter new Grade:  B\n"
     ]
    },
    {
     "name": "stdout",
     "output_type": "stream",
     "text": [
      "✅ Student record updated.\n",
      "\n",
      "--- Main Menu ---\n",
      "1. Add Student\n",
      "2. View All Students\n",
      "3. Search Student\n",
      "4. Update Student\n",
      "5. Delete Student\n",
      "6. Generate Report\n",
      "7. Logout & Exit\n"
     ]
    },
    {
     "name": "stdin",
     "output_type": "stream",
     "text": [
      "Enter choice:  5\n",
      "Enter Roll Number to delete:  103\n"
     ]
    },
    {
     "name": "stdout",
     "output_type": "stream",
     "text": [
      "✅ Student record deleted.\n",
      "\n",
      "--- Main Menu ---\n",
      "1. Add Student\n",
      "2. View All Students\n",
      "3. Search Student\n",
      "4. Update Student\n",
      "5. Delete Student\n",
      "6. Generate Report\n",
      "7. Logout & Exit\n"
     ]
    },
    {
     "name": "stdin",
     "output_type": "stream",
     "text": [
      "Enter choice:  6\n"
     ]
    },
    {
     "name": "stdout",
     "output_type": "stream",
     "text": [
      "\n",
      "📊 Student Report\n",
      "Total Students: 2\n",
      "Grade A: 1 student(s)\n",
      "Grade B: 1 student(s)\n",
      "\n",
      "--- Main Menu ---\n",
      "1. Add Student\n",
      "2. View All Students\n",
      "3. Search Student\n",
      "4. Update Student\n",
      "5. Delete Student\n",
      "6. Generate Report\n",
      "7. Logout & Exit\n"
     ]
    },
    {
     "name": "stdin",
     "output_type": "stream",
     "text": [
      "Enter choice:  7\n"
     ]
    },
    {
     "name": "stdout",
     "output_type": "stream",
     "text": [
      "👋 Goodbye!\n"
     ]
    }
   ],
   "source": [
    "#--------------------\n",
    "#Main Program\n",
    "#--------------------\n",
    "\n",
    "def main(): \n",
    "    \"\"\"\n",
    "    The entry point of the program. It will handle:\n",
    "    -first-time admin creation\n",
    "    -user login\n",
    "    -menu navigation\n",
    "    \"\"\"\n",
    "    print(\"===== Student Management System =====\") \n",
    " \n",
    "    # Ensure admin user exists \n",
    "    if not os.path.exists(USER_FILE): \n",
    "        print(\"No users found. Create an Admin account.\") \n",
    "        uname = input(\"Set Admin Username: \") \n",
    "        pwd = getpass.getpass(\"Set Admin Password: \") \n",
    "        save_user(uname, pwd) \n",
    "        print(\"✅ Admin created! Please restart the program.\") \n",
    " \n",
    "    username = None \n",
    "    while not username: \n",
    "        username = authenticate() \n",
    " \n",
    "    # Menu \n",
    "    while True: \n",
    "        print(\"\\n--- Main Menu ---\") \n",
    "        print(\"1. Add Student\") \n",
    "        print(\"2. View All Students\") \n",
    "        print(\"3. Search Student\") \n",
    "        print(\"4. Update Student\") \n",
    "        print(\"5. Delete Student\") \n",
    "        print(\"6. Generate Report\") \n",
    "        print(\"7. Logout & Exit\") \n",
    " \n",
    "        choice = input(\"Enter choice: \") \n",
    " \n",
    "        if choice == \"1\": \n",
    "            add_student(username) \n",
    "        elif choice == \"2\": \n",
    "            view_students() \n",
    "        elif choice == \"3\": \n",
    "            search_student() \n",
    "        elif choice == \"4\": \n",
    "            update_student(username) \n",
    "        elif choice == \"5\": \n",
    "            delete_student(username) \n",
    "        elif choice == \"6\": \n",
    "            generate_report() \n",
    "        elif choice == \"7\": \n",
    "            log_activity(username, \"Logged out\") \n",
    "            print(\"👋 Goodbye!\") \n",
    "            break \n",
    "        else: \n",
    "            print(\"❌ Invalid choice! Please try again.\") \n",
    " \n",
    "if __name__ == \"__main__\": \n",
    "    main() "
   ]
  }
 ],
 "metadata": {
  "kernelspec": {
   "display_name": "Python 3 (ipykernel)",
   "language": "python",
   "name": "python3"
  },
  "language_info": {
   "codemirror_mode": {
    "name": "ipython",
    "version": 3
   },
   "file_extension": ".py",
   "mimetype": "text/x-python",
   "name": "python",
   "nbconvert_exporter": "python",
   "pygments_lexer": "ipython3",
   "version": "3.13.7"
  }
 },
 "nbformat": 4,
 "nbformat_minor": 5
}
